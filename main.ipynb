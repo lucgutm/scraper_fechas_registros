{
 "cells": [
  {
   "cell_type": "code",
   "execution_count": null,
   "metadata": {},
   "outputs": [],
   "source": [
    "import os\n",
    "import time\n",
    "from selenium import webdriver\n",
    "from selenium.webdriver.common.by import By"
   ]
  },
  {
   "cell_type": "code",
   "execution_count": null,
   "metadata": {},
   "outputs": [],
   "source": [
    "company_name = \"SOCIEDAD DE INVERSIONES DJ\"\n",
    "website = \"https://registrosanitario.ispch.gob.cl/\"\n",
    "\n",
    "# Configure headless mode options and start browser\n",
    "options = webdriver.ChromeOptions()\n",
    "options.add_argument(\"--headless\")  # no gui environment\n",
    "browser = webdriver.Chrome(options=options)\n",
    "\n",
    "# Navigate to website\n",
    "browser.get(website)\n",
    "\n",
    "# checkbox id ctl00_ContentPlaceHolder1_chkTipoBusqueda_2\n",
    "checkbox = browser.find_element(By.ID, \"ctl00_ContentPlaceHolder1_chkTipoBusqueda_2\")\n",
    "checkbox.click()\n",
    "\n",
    "# type company name in input id ctl00_ContentPlaceHolder1_txtEmpresa\n",
    "company = browser.find_element(By.ID, \"ctl00_ContentPlaceHolder1_txtEmpresa\")\n",
    "company.send_keys(company_name)\n",
    "\n",
    "# search button: id ctl00_ContentPlaceHolder1_btnBuscar\n",
    "search_button = browser.find_element(By.ID, \"ctl00_ContentPlaceHolder1_btnBuscar\")\n",
    "search_button.click()\n",
    "\n",
    "# Generate excel report: id ctl00_ContentPlaceHolder1_ImgBntExcel\n",
    "excel_button = browser.find_element(By.ID, \"ctl00_ContentPlaceHolder1_ImgBntExcel\")\n",
    "excel_button.click()\n",
    "\n",
    "# Wait for Productos.xls to finish downloading\n",
    "open(\"Productos.xls\", \"w\").close()  # Productos.xls now exists but is empty\n",
    "for i in range(40):  # 40 attempts over 20 seconds\n",
    "    if os.path.getsize(\"Productos.xls\") == 0:\n",
    "        time.sleep(0.5)\n",
    "    else:\n",
    "        break # exit loop when file is not empty\n",
    "\n",
    "# Close the browser window when done downloading\n",
    "browser.quit()"
   ]
  },
  {
   "cell_type": "code",
   "execution_count": null,
   "metadata": {},
   "outputs": [],
   "source": [
    "import pandas as pd\n",
    "\n",
    "# Read the excel file\n",
    "df = pd.read_html(\"Productos.xls\")[0]\n",
    "\n",
    "# drop the first column\n",
    "df = df.drop(df.columns[0], axis=1)\n",
    "\n",
    "# String to datetime\n",
    "df[\"Fecha Registro\"] = pd.to_datetime(df[\"Fecha Registro\"])"
   ]
  },
  {
   "cell_type": "code",
   "execution_count": null,
   "metadata": {},
   "outputs": [],
   "source": [
    "import requests\n",
    "from urllib3.exceptions import InsecureRequestWarning\n",
    "\n",
    "# Suppress only the single warning from urllib3 needed.\n",
    "requests.packages.urllib3.disable_warnings(category=InsecureRequestWarning)\n",
    "\n",
    "# Add a new column to store the upcoming renewal date\n",
    "for registro in df[\"Registro\"]:\n",
    "    # Get the product details\n",
    "    url = f\"https://registrosanitario.ispch.gob.cl/Ficha.aspx?RegistroISP={registro}\"\n",
    "    response = requests.get(url, verify=False)\n",
    "    \n",
    "    # Find Fecha Próxima renovación by id=ctl00_ContentPlaceHolder1_lblProxRenovacion \n",
    "    upcoming_renewal_date = response.text.split('ctl00_ContentPlaceHolder1_lblProxRenovacion\">')[1].split(\"</span>\")[0]\n",
    "\n",
    "    # save the upcoming_renewal_date in the dataframe\n",
    "    df.loc[df[\"Registro\"] == registro, \"Fecha Próxima renovación\"] = pd.to_datetime(upcoming_renewal_date, format=\"%d/%m/%Y\")\n",
    "\n",
    "    # set Fecha Vencimiento as Fecha Próxima renovación + 1 day. It must land on a business day\n",
    "    df.loc[df[\"Registro\"] == registro, \"Fecha Vencimiento\"] = pd.to_datetime(upcoming_renewal_date, format=\"%d/%m/%Y\") + pd.offsets.CustomBusinessDay()\n",
    "\n",
    "# Sort the dataframe by Fecha Próxima renovación\n",
    "df = df.sort_values(by=\"Fecha Próxima renovación\")"
   ]
  },
  {
   "cell_type": "code",
   "execution_count": null,
   "metadata": {},
   "outputs": [],
   "source": [
    "# save the dataframe to a new csv, with timestamp\n",
    "df.to_csv(f\"{company_name} {time.strftime('%Y-%m-%d %H:%M:%S')}.csv\", index=False)"
   ]
  },
  {
   "cell_type": "code",
   "execution_count": null,
   "metadata": {},
   "outputs": [],
   "source": [
    "# clean everything\n",
    "os.remove(\"Productos.xls\")"
   ]
  }
 ],
 "metadata": {
  "kernelspec": {
   "display_name": "ml",
   "language": "python",
   "name": "python3"
  },
  "language_info": {
   "codemirror_mode": {
    "name": "ipython",
    "version": 3
   },
   "file_extension": ".py",
   "mimetype": "text/x-python",
   "name": "python",
   "nbconvert_exporter": "python",
   "pygments_lexer": "ipython3",
   "version": "3.12.2"
  }
 },
 "nbformat": 4,
 "nbformat_minor": 2
}
